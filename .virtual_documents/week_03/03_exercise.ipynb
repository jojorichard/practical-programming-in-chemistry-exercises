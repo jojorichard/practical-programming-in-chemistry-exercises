











# Integers and floats
int_example = 3
float_example = 3.14

## Sequence Data Types
# Strings, lists, and tuples
str_example = "Hello, Python!"
list_example = [1, 2, 3]
tuple_example = ("a", "b", "c")

# Indexing and slicing
print(list_example[0])  # First element of list
print(str_example[-1])  # Last character of string
print(tuple_example[1:])  # Slicing tuple from second element to end









# Adding and accessing elements
list_example.append(4)  # Adding an element to a list
dict_example = {"key1": "value1", "key2": "value2"}
print(dict_example["key1"])  # Accessing a value from a dictionary

## Loops and Iterations
# For loop with a list
for item in list_example:
    print(item)



# While loop example
print("While loop...")
i = 0
while i < len(list_example):
    print(list_example[i])
    i += 1

# Or equivalently in a for loop
print("For loop...")
for element in list_example:
    print(element)


# Boolean variables and conditional statements
a = True
b = False
if a and b:
    print("Both are true")
elif a or b:
    print("At least one is true")  # this will be printed!
else:
    print("Neither is true")








from pathlib import Path

# Create a Path object for the current directory
current_directory = Path.cwd()
print("Current Directory:", current_directory.resolve())

# Creating a Path object for an example file that does not yet exist
example_file_path = current_directory / "example.txt"

# Reading the contents of the file
if example_file_path.exists():
    with example_file_path.open("r") as file:
        content = file.read()
        print(content)
else:
    print("The file does not exist.")





example_file_path.touch()

# Reading the contents of the file
if example_file_path.exists():
    with example_file_path.open("r") as file:
        content = file.read()
        print(content)
else:
    print("The file does not exist.")





# Reading the contents of the file
if example_file_path.exists():
    with example_file_path.open("r") as file:
        content = file.read()
        if len(content) == 0:
            print("File exists but is empty.")
        else:
            print(content)
else:
    print("The file does not exist.")





# TODO: edit this with your molecule!
molecule_name = "humulone"
molecule_image_url = "https://github.com/jojorichard/ppchem/blob/main/houblon.png"
molecule_description = "L'humulone est une substance qui provient de la dégradation de la lupuline, le principe actif du houblon."





# Define path
molecule_info_path = current_directory / "molecule_info.txt"

# Create file
molecule_info_path.touch()

# Write to file
with molecule_info_path.open("w") as file:
    file.write(
        f"Molecule: {molecule_name}\n"
        f"Image URL: {molecule_image_url}\n"
        f"Description: {molecule_description}"
    )





# Reading the contents of the file
if molecule_info_path.exists():
    with molecule_info_path.open("r") as file:
        content = file.read()
        if len(content) == 0:
            print("File exists but is empty.")
        else:
            print(content)
else:
    print("The file does not exist.")








def check_file_existence_and_read_contents(file_path_object: Path):
    """
    Checks the existence of the file whose path is pointed to in the input variable
    `file_path_object`. 
    
    If it exists and is empty, prints "File exists but is empty. If it exists and is not
    empty, prints the contents of the file. If it doesn't exist, prints "The file does
    not exist."

    :param file_path_object: the `pathlib.Path` object pointing to the absolute path of
        the file to be checked and read.
    """
    if file_path_object.exists():  # exists

        # 'with' is what's known as acontext manager. It keeps the file open while we
        # are running code inside the `with` block, but closes it when leaving the code
        # block.
        with file_path_object.open("r") as file:
            content = file.read()  # read contents of the file

            if len(content) == 0:  # empty
                print("File exists but is empty.")

            else:  # not empty
                print(content)

    else:  # doesn't exist
        print("The file does not exist.")





check_file_existence_and_read_contents(example_file_path)  # calls the function


check_file_existence_and_read_contents(molecule_info_path)  # calls the function





def reaction_yield(theoretical_yield, actual_yield):
    """
    Calculate the percent yield of a reaction.
    theoretical_yield: Theoretical yield in grams
    actual_yield: Actual yield obtained from the reaction in grams
    Returns the percent yield as a percentage.
    """
    percent_yield = (actual_yield / theoretical_yield) * 100
    return percent_yield


# Example usage:
yield_percent = reaction_yield(10.0, 8.5)
print(f"Experimental yield: {yield_percent} %")





yield_percent = reaction_yield(-10.0, 8.5)
print(f"Experimental yield: {yield_percent} %")


yield_percent = reaction_yield(theoretical_yield=10.0, actual_yield=12345)
print(f"Experimental yield: {yield_percent} %")





yield_percent = reaction_yield("I never took chemistry", 101)  # passing a string and an integer
print(f"Experimental yield: {yield_percent} %")








# TODO: add a descriptive error message to that checks the relationship between the
# theoretical and actual yields

def reaction_yield(theoretical_yield: float, actual_yield: float) -> float:
    """
    Calculates the percent yield of a reaction.

    :param theoretical_yield: float, the theoretical yield of the reaction, in grams.
    :param actual_yield: float, the actual yield obtained from the reaction, in grams.
    
    :return: float, the yield of the reaction as a percentage.
    """
    # Type checks: input yields should be passed as floats
    if not isinstance(theoretical_yield, float):
        raise TypeError(
            f"Invalid type {type(theoretical_yield)}: `theoretical_yield`"
            " should be passed as a float."
        )
    if not isinstance(actual_yield, float):
        raise TypeError(
            f"Invalid type {type(actual_yield)}: `actual_yield`"
            " should be passed as a float."
        )

    # Input checks
    if theoretical_yield < 0 or actual_yield < 0:  # yields should be non-negative
        raise ValueError("Input yields must be a non-negative float")

    if actual_yield > theoretical_yield:  # actual yield can't be more than the theoretical
        # TODO: add a descriptive error message here
        raise ValueError("Actual yield is bigger than theorical yield")

    # Calculate the yield and return
    percent_yield = (actual_yield / theoretical_yield) * 100
    return percent_yield





# This does (and should) raise an error!
yield_percent = reaction_yield(-10.0, 8.5)
print(f"Experimental yield: {yield_percent} %")


# This gives a much nicer error message than: "TypeError: unsupported operand type(s) for /: 'int' and 'str'"
yield_percent = reaction_yield("I never took chemistry", 101)
print(f"Experimental yield: {yield_percent} %")





yield_percent = reaction_yield(25, 5)  # error!
print(f"Experimental yield: {yield_percent} %")





yield_percent = reaction_yield("25", "5")  # error!
print(f"Experimental yield: {yield_percent} %")











a = 5
b = "6"
print(a + int(b))  # 11





a = 5
b = "6"
print(a + b)  # TypeError





# TODO: complete the function
def add_five(number: int) -> int:
    # TODO: add a docstring
    '''
    Add 5 to the number
    '''
    # TODO: your code here
    return number + 5 





# Passing an int --> expected behaviour. Integer 11 returned
add_five(6)


# Passing a str --> TypeError
add_five("6")


# Passing a float --> no error, but returns a float not an int
result = add_five(6.0)
print(result)
print(type(result))





def add_five(number: int) -> int:
    """Adds 5 to `number` and returns the result"""
    return int(5 + number)


# Passing a float --> no error, but returns a float not an int
result = add_five(6.0)
print(result)
print(type(result))





def add_five(number: int) -> int:
    """Adds 5 to `number` and returns the result"""
    number = int(number)
    return 5 + number





# Passing a float --> returns an int
result = add_five("6")
print(result)
print(type(result))


# Passing a float --> returns an int
result = add_five(6.0)
print(result)
print(type(result))





add_five("hello")





def add_five(number: int) -> int:
    """Adds 5 to `number` and returns the result"""
    
    try:  # program attempts to execute this code
        number = int(number)

    except ValueError as e:     # unless there's an ValueError: catch it...
        raise ValueError(  # ... and raise a new ValueError with a meaningful message
            f"Invalid input argument: '{number}'."
            " `number` must be an int, or convertible to an int."
            f" Original error message: {e}"
        )
    
    return 5 + number


# More meaningful error message raised
add_five("hello")





def reaction_yield(theoretical_yield: float, actual_yield: float) -> float:
    """
    Calculates the percent yield of a reaction.

    :param theoretical_yield: float, the theoretical yield of the reaction, in grams.
    :param actual_yield: float, the actual yield obtained from the reaction, in grams.
    
    :return: float, the yield of the reaction as a percentage.
    """
    # Type checks: input yields should be passed as floats. If not, attempt to convert
    # them to a float. If this fails, raise an error.
    if not isinstance(theoretical_yield, float):
        try:  
            theoretical_yield = float(theoretical_yield)
        except ValueError as e:
            raise ValueError(
                f"Invalid input '{theoretical_yield}': `theoretical_yield`"
                " should be passed as a float, or be convertible to a float."
                f" Original error: {e}"
            )

    if not isinstance(actual_yield, float):
        try:
            actual_yield = float(actual_yield)
        except ValueError as e:
            raise ValueError(
                f"Invalid input '{actual_yield}': `actual_yield`"
                " should be passed as a float, or be convertible to a float."
                f" Original error: {e}"
            )

    # Input value checks
    if theoretical_yield < 0 or actual_yield < 0:  # yields should be non-negative
        raise ValueError("Input yields must be a non-negative float")

    if actual_yield > theoretical_yield:  # actual yield can't be more than the theoretical
        raise ValueError("Actual yield cannot be more than the theoretical yield")

    # Calculate the yield and return
    percent_yield = (actual_yield / theoretical_yield) * 100

    return percent_yield


# Now if we run with strings that are convertible to floats, the function works!
reaction_yield("80", "70")


# But if they are non-convertible, we get a nicer error message
reaction_yield(4.0, "hello")





# Define the path object for the file and check that it exists
reaction_yield_file = current_directory / "reaction_yields.txt"
assert reaction_yield_file.exists()

# Open the file
with reaction_yield_file.open("r") as file:  # "r" is read-mode

    # Read the file and convert to a list, where each element in the list is a str
    # containing each line.
    lines = file.read().splitlines()  

    for line_i, line in enumerate(lines):
        print(f"Line number: {line_i}")
        print(f"    Line read from file: {line}")

        if line.startswith("#"):
            print("    Comment line, not extracting data\n")
        else:
            print("    Data line, extracting data")

            # Extract the values on each row by further splitting the line
            line_data = line.split()
            print(f"    Data on line: {line_data}")

            # Unpack the values in the list
            assert len(line_data) == 3
            name, theoretical, actual = line_data
            print(f"    Data types: {[type(d) for d in line_data]}")

            # Calculate the percent yield and print the results
            percent_yield = reaction_yield(theoretical, actual)  # call our function!
            print(f"    Scientist: {name}, reaction yield (%): {percent_yield}\n")






# TODO: copy the code cell above and modify

# Define the path object for the file and check that it exists

reaction_yield_file = current_directory / "reaction_yields_with_errors.txt"
assert reaction_yield_file.exists()

# Open the file
with reaction_yield_file.open("r") as file:  # "r" is read-mode

    # Read the file and convert to a list, where each element in the list is a str
    # containing each line.
    lines = file.read().splitlines()  

    for line_i, line in enumerate(lines):
        print(f"Line number: {line_i}")
        print(f"    Line read from file: {line}")

        if line.startswith("#"):
            print("    Comment line, not extracting data\n")
        else:
            print("    Data line, extracting data")

            # Extract the values on each row by further splitting the line
            line_data = line.split()
            print(f"    Data on line: {line_data}")

            # Unpack the values in the list
            assert len(line_data) == 3
            name, theoretical, actual = line_data
            print(f"    Data types: {[type(d) for d in line_data]}")

            # Calculate the percent yield and print the results
            try:
                percent_yield = reaction_yield(theoretical, actual)  # call our function!
                print(f"    Scientist: {name}, reaction yield (%): {percent_yield}\n")
            except ValueError as e:
                print(f"    Erreur: {e}")






caffeine_formula = {"C": 8, "H": 10, "N": 4, "O": 2}


def get_number_of_atoms(chemical_formula_dict: dict) -> int:
    """
    Calculates the total number of atoms from the dictionary representation of the
    chemical formula.

    For instance, caffeine is represented by: {"C": 8, "H": 10, "N": 4, "O": 2}

    :param chemical_formula_dict: dict, where keys are the atomic symbols and values are
        the number of atoms of that type.

    :return: int, the total number of atoms in the chemical formula.
    """
    total_number_of_atoms = 0
    for symbol, count in chemical_formula_dict.items():
        # Check the keys and values of the input
        if not isinstance(symbol, str):
            raise TypeError(
                f"Invalid type {type(symbol)}: atomic symbols should be passed as strings."
            )
        if not isinstance(count, int):
            raise TypeError(
                f"Invalid type {type(count)}: atomic counts should be passed as integers."
            )
        if count < 0:
            raise ValueError("Atomic counts should be non-negative integers.")

        # Accumulate the total number of atoms
        # TODO: your code here
        total_number_of_atoms += count
    return total_number_of_atoms


get_number_of_atoms(caffeine_formula)





# TODO: complete the function
def calculate_molecular_mass(chemical_formula_dict: dict) -> float:
    # TODO: Don't forget to add a docstring!
    '''
    Entry: chemical formula as a dict
    output: Molecular mass of the compound
    '''
    # Dictionary of {symbol: atomic mass} up to Argon
    # TODO: fill in the atomic mass of Carbon!
    atomic_masses = {
        "H": 1.008,
        "He": 4.002602,
        "Li": 6.94,
        "Be": 9.0121831,
        "B": 10.81,
        "C": 12.011,  # atomic mass of Carbon here
        "N": 14.007,
        "O": 15.999,
        "F": 18.998403163,
        "Ne": 20.1797,
        "Na": 22.98976928,
        "Mg": 24.305,
        "Al": 26.9815385,
        "Si": 28.085,
        "P": 30.973761998,
        "S": 32.06,
        "Cl": 35.45,
        "Ar": 39.948,
    }

    # TODO: Your code here
    m_w = 0 
    for symbol, count in chemical_formula_dict.items():
        m_w += atomic_masses[symbol]*count
    return m_w





class Molecule:
    """
    A class to represent some useful information about a molecule.
    """
    def __init__(self, name: str, chemical_formula_dict: dict):
        """
        Initializes a Molecule object with a name and a chemical formula.
        """
        self.name = name
        self.chemical_formula_dict = chemical_formula_dict
        self.chemical_formula_str = self.chemical_formula_str()

    def __repr__(self):
        return f"Molecule(name='{self.name}', formula={self.chemical_formula_str})"

    def chemical_formula_str(self) -> str:
        """
        Returns a string representation of the chemical formula.
        """
        formula_str = ""
        for symbol, count in self.chemical_formula_dict.items():
            formula_str += f"{symbol}{count}"
        return formula_str





caffeine_formula = {"C": 8, "H": 10, "N": 4, "O": 2}

# "Instantiate" a Molecule object
caffeine_molecule = Molecule("Caffeine", caffeine_formula)





print(caffeine_molecule)





class Molecule:
    """
    A class to represent some useful information about a molecule.
    """
    def __init__(self, name: str, chemical_formula_dict: dict):
        """
        Initializes a Molecule object with a name and a chemical formula.
        """
        self.name = name
        self.chemical_formula_dict = chemical_formula_dict
        self.chemical_formula_str = self.chemical_formula_str()
        # TODO 3: Uncomment these and call the class methods to set the following class attributes
        self.number_of_atoms = self.get_number_of_atoms()
        self.molecular_mass = self.calculate_molecular_mass()

    def __repr__(self):
        return f"Molecule(name='{self.name}', formula={self.chemical_formula_str})"

    def chemical_formula_str(self) -> str:
        """
        Returns a string representation of the chemical formula.
        """
        formula_str = ""
        for symbol, count in self.chemical_formula_dict.items():
            formula_str += f"{symbol}{count}"
        return formula_str

    # TODO 1: copy in the methods below here
    # TODO 2: add the `self` arguments to the method signatures
    def get_number_of_atoms(self) -> int:
        """
        Calculates the total number of atoms from the dictionary representation of the
        chemical formula.

        For instance, caffeine is represented by: {"C": 8, "H": 10, "N": 4, "O": 2}

        :param chemical_formula_dict: dict, where keys are the atomic symbols and values
            are the number of atoms of that type.

        :return: int, the total number of atoms in the chemical formula.
        """
        total_number_of_atoms = 0
        for symbol, count in self.chemical_formula_dict.items():
            # Check the keys and values of the input
            if not isinstance(symbol, str):
                raise TypeError(
                    f"Invalid type {type(symbol)}: atomic symbols should be passed as strings."
                )
            if not isinstance(count, int):
                raise TypeError(
                    f"Invalid type {type(count)}: atomic counts should be passed as integers."
                )
            if count < 0:
                raise ValueError("Atomic counts should be non-negative integers.")

            # Accumulate the total number of atoms
            total_number_of_atoms += count

        return total_number_of_atoms



    
    def calculate_molecular_mass(self) -> float:
        """
        Calculates the molecular mass of a chemical formula.
        """
        # Dictionary of {symbol: atomic mass} up to Argon
        atomic_masses = {
            "H": 1.008,
            "He": 4.002602,
            "Li": 6.94,
            "Be": 9.0121831,
            "B": 10.81,
            "C": 12.011,
            "N": 14.007,
            "O": 15.999,
            "F": 18.998403163,
            "Ne": 20.1797,
            "Na": 22.98976928,
            "Mg": 24.305,
            "Al": 26.9815385,
            "Si": 28.085,
            "P": 30.973761998,
            "S": 32.06,
            "Cl": 35.45,
            "Ar": 39.948,
        }
        molecular_mass = 0
        for symbol, count in self.chemical_formula_dict.items():
            if symbol not in atomic_masses:
                raise ValueError(
                    f"Invalid atomic symbol: {symbol}. Currently can only"
                    " calculate the molecular mass for molecules containing"
                    " atoms up to Argon (Ar)."
                )
            molecular_mass += atomic_masses[symbol] * count

        return molecular_mass


caffeine_molecule = Molecule("Caffeine", {"C": 8, "H": 10, "N": 4, "O": 2})

print(f"Name: {caffeine_molecule.name}")
print(f"Chemical formula: {caffeine_molecule.chemical_formula_str}")
print(f"Number of atoms: {caffeine_molecule.number_of_atoms}")
print(f"Molecular mass: {caffeine_molecule.molecular_mass}")





molecule_names_and_formula = [
    ("Caffeine", {"C": 8, "H": 10, "N": 4, "O": 2}),
    ("Water", {"H": 2, "O": 1}),
    ("Carbon Dioxide", {"C": 1, "O": 2}),
    ("Glucose", {"C": 6, "H": 12, "O": 6}),
    ("Ethanol", {"C": 2, "H": 6, "O": 1}),
    ("Acetic Acid", {"C": 2, "H": 4, "O": 2}),
    ("Ammonia", {"N": 1, "H": 3}),
    ("Methane", {"C": 1, "H": 4}),
    ("Hydrochloric Acid", {"H": 1, "Cl": 1}),
    ("Nitrous Oxide", {"N": 2, "O": 1}),
]

molecules = []
for (name, formula) in molecule_names_and_formula:
    # TODO: your code here. Generate a molcule object and append it to the list
    molecule_object = Molecule(name, formula)
    molecules.append(molecule_object)
    # `molecules`.


# And finally print the information for each molecule
for molecule in molecules:
    print(f"Name: {molecule.name}")
    print(f"Chemical formula: {molecule.chemical_formula_str}")
    print(f"Number of atoms: {molecule.number_of_atoms}")
    print(f"Molecular mass: {molecule.molecular_mass}\n")



